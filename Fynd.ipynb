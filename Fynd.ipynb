{
 "cells": [
  {
   "cell_type": "code",
   "execution_count": 1,
   "metadata": {},
   "outputs": [],
   "source": [
    "from PIL import Image\n",
    "import requests\n",
    "from io import BytesIO\n",
    "import os\n",
    "import numpy as np       \n",
    "import urllib\n",
    "import glob\n",
    "import matplotlib.pyplot as plt\n",
    "import matplotlib.image as mpimg"
   ]
  },
  {
   "cell_type": "code",
   "execution_count": 2,
   "metadata": {},
   "outputs": [
    {
     "name": "stdout",
     "output_type": "stream",
     "text": [
      "abstract\n",
      "Patterned\n",
      "Melange\n",
      "Predicted\n",
      "solid\n",
      "floral\n",
      "graphic\n",
      "polka dots\n",
      "Colourblock\n",
      "typography\n",
      "Checked\n",
      "Printed\n",
      "striped\n"
     ]
    }
   ],
   "source": [
    "Img_array_folder = []\n",
    "\n",
    "for filename in os.listdir('images/Train Directory'):\n",
    "    print(filename)\n",
    "    Img_array_folder.append(filename)"
   ]
  },
  {
   "cell_type": "code",
   "execution_count": 3,
   "metadata": {},
   "outputs": [],
   "source": [
    "def normalize(arr):\n",
    "    \"\"\"\n",
    "    Linear normalization\n",
    "    http://en.wikipedia.org/wiki/Normalization_%28image_processing%29\n",
    "    \"\"\"\n",
    "    arr = arr.astype('float')\n",
    "    # Do not touch the alpha channel\n",
    "    for i in range(3):\n",
    "        minval = arr[...,i].min()\n",
    "        maxval = arr[...,i].max()\n",
    "        if minval != maxval:\n",
    "            arr[...,i] -= minval\n",
    "            arr[...,i] *= (255.0/(maxval-minval))\n",
    "    return arr"
   ]
  },
  {
   "cell_type": "code",
   "execution_count": 5,
   "metadata": {},
   "outputs": [],
   "source": [
    "for folder in Img_array_folder:\n",
    "    for img in os.listdir('images/Train Directory/'+folder):\n",
    "        #width = 500\n",
    "        #height = 420\n",
    "# use one of these filter options to resize the image\n",
    "        #im2 = img.resize((width, height), Image.NEAREST)\n",
    "\n",
    "        i = Image.open('images/Train Directory/'+folder+'/'+img)\n",
    "        basewidth = 128\n",
    "        wpercent = (basewidth/float(i.size[0]))\n",
    "        hsize = int((float(i.size[1])*float(wpercent)))\n",
    "        #print(i)\n",
    "        #imgplot = plt.imshow(i)\n",
    "        #plt.show()\n",
    "        pic = i.resize((128,128), Image.ANTIALIAS)\n",
    "        #print(img)\n",
    "        arr = np.array(pic)\n",
    "        new_img = Image.fromarray(normalize(arr).astype('uint8'),'RGB')\n",
    "        #imgplot = plt.imshow(new_img)\n",
    "        #plt.show()\n",
    "        new_img.save(open('images/modified/'+folder+'/'+img,'wb'))"
   ]
  },
  {
   "cell_type": "code",
   "execution_count": null,
   "metadata": {},
   "outputs": [],
   "source": [
    "import os\n",
    "import pandas as pd\n",
    "from sklearn.model_selection import train_test_split\n",
    "import keras\n",
    "from PIL import Image\n",
    "import cv2"
   ]
  },
  {
   "cell_type": "code",
   "execution_count": null,
   "metadata": {},
   "outputs": [],
   "source": [
    "Img_folder = []\n",
    "\n",
    "for foldername in os.listdir('images/Train Directory'):\n",
    "    Img_folder.append(foldername)\n",
    "path = 'images/modified/'"
   ]
  },
  {
   "cell_type": "code",
   "execution_count": null,
   "metadata": {},
   "outputs": [],
   "source": [
    "def image_to_feature_vector(image, size=(32, 32)):\n",
    "    #resize the image to a fixed size, then flatten the image into\n",
    "    return cv2.resize(image, size).flatten()"
   ]
  },
  {
   "cell_type": "code",
   "execution_count": null,
   "metadata": {},
   "outputs": [],
   "source": [
    "Image_Path = []\n",
    "Image_Tag= []\n",
    "for folder in Img_folder:\n",
    "    for img in os.listdir(path+ folder):\n",
    "        i = Image.open(path+folder+'/'+img)\n",
    "        e=np.array(i)\n",
    "        pixels = image_to_feature_vector(e)\n",
    "        Image_Path.append(pixels)\n",
    "        Image_Tag.append(folder)"
   ]
  },
  {
   "cell_type": "code",
   "execution_count": null,
   "metadata": {},
   "outputs": [],
   "source": [
    "X_train,X_test,Y_train,Y_test= train_test_split(Image_Path, Image_Tag,test_size=0)\n",
    "#print('Train data:{}'.format(X_train.shape))\n",
    "#print('Your Testing Data Shape is:',Y_test.shape)"
   ]
  },
  {
   "cell_type": "code",
   "execution_count": null,
   "metadata": {},
   "outputs": [],
   "source": [
    "print(len(X_train))\n",
    "print(len(Y_train))\n",
    "print(len(Image_Tag))\n",
    "print(len(Image_Path))"
   ]
  },
  {
   "cell_type": "code",
   "execution_count": null,
   "metadata": {},
   "outputs": [],
   "source": [
    "from keras.models import Sequential\n",
    "from keras.layers import Dense,Activation, Dropout, Flatten\n",
    "from keras.layers.convolutional import Convolution2D,MaxPooling2D\n",
    "from sklearn.ensemble import RandomForestClassifier"
   ]
  },
  {
   "cell_type": "code",
   "execution_count": null,
   "metadata": {},
   "outputs": [],
   "source": [
    "model = Sequential()\n",
    "model.add(Convolution2D(32,(5,5), input_shape=(128,128,3)))\n",
    "model.add(Activation('relu'))\n",
    "model.add(MaxPooling2D(pool_size =(2,2)))\n",
    "\n",
    "model.add(Convolution2D(32,(3,3)))\n",
    "model.add(Activation('relu'))\n",
    "model.add(MaxPooling2D(pool_size =(2,2)))\n",
    "\n",
    "model.add(Convolution2D(64,(3,3)))\n",
    "model.add(Activation('relu'))\n",
    "model.add(MaxPooling2D(pool_size =(2,2)))\n",
    "\n",
    "\n",
    "model.add(Flatten())\n",
    "model.add(Dense(64))\n",
    "model.add(Activation('relu'))\n",
    "model.add(Dropout(0.5))\n",
    "\n",
    "model.add(Dense(1))\n",
    "model.add(Activation('sigmoid'))\n",
    "\n",
    "\n",
    "model.compile(loss='categorical_crossentropy',\n",
    "             optimizer = 'adam',\n",
    "             metrics=['accuracy'])"
   ]
  },
  {
   "cell_type": "code",
   "execution_count": null,
   "metadata": {},
   "outputs": [],
   "source": [
    "len(Image_Tag)"
   ]
  },
  {
   "cell_type": "code",
   "execution_count": null,
   "metadata": {},
   "outputs": [],
   "source": []
  }
 ],
 "metadata": {
  "kernelspec": {
   "display_name": "Python 3",
   "language": "python",
   "name": "python3"
  },
  "language_info": {
   "codemirror_mode": {
    "name": "ipython",
    "version": 3
   },
   "file_extension": ".py",
   "mimetype": "text/x-python",
   "name": "python",
   "nbconvert_exporter": "python",
   "pygments_lexer": "ipython3",
   "version": "3.6.5"
  }
 },
 "nbformat": 4,
 "nbformat_minor": 2
}
